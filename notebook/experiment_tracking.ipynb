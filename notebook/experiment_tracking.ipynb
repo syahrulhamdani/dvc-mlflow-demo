{
 "cells": [
  {
   "cell_type": "code",
   "execution_count": null,
   "id": "49f50c8a-c7e0-4c54-9ff8-3adbc00768aa",
   "metadata": {
    "tags": []
   },
   "outputs": [],
   "source": [
    "import argparse\n",
    "import json\n",
    "import os\n",
    "from time import time\n",
    "from pathlib import Path\n",
    "\n",
    "import joblib\n",
    "import mlflow\n",
    "import pandas as pd\n",
    "from sklearn.compose import ColumnTransformer\n",
    "from sklearn.ensemble import RandomForestClassifier\n",
    "from sklearn.metrics import classification_report\n",
    "from sklearn.model_selection import GridSearchCV\n",
    "from sklearn.pipeline import Pipeline\n",
    "from sklearn.preprocessing import StandardScaler, OneHotEncoder\n",
    "\n",
    "pd.set_option(\"display.max_columns\", None)"
   ]
  },
  {
   "cell_type": "markdown",
   "id": "30997e87-1bf7-41e2-8f47-7e2afd24e1f9",
   "metadata": {},
   "source": [
    "# Experiment Tracking"
   ]
  },
  {
   "cell_type": "code",
   "execution_count": null,
   "id": "bddea547-2120-468e-b548-5294dd3e1dc7",
   "metadata": {
    "tags": []
   },
   "outputs": [],
   "source": [
    "DATA_DIR = Path(\"../data\")\n",
    "SPLIT_DATA_DIR = DATA_DIR / \"split\"\n",
    "TRAIN_DATA_FILENAME = SPLIT_DATA_DIR / \"lending_club_train.csv\"\n",
    "TEST_DATA_FILENAME = SPLIT_DATA_DIR / \"lending_club_test.csv\""
   ]
  },
  {
   "cell_type": "code",
   "execution_count": null,
   "id": "63335a2c-9aee-4c52-bc34-bbdf9a96b6f9",
   "metadata": {
    "tags": []
   },
   "outputs": [],
   "source": [
    "df_train = pd.read_csv(TRAIN_DATA_FILENAME)\n",
    "df_test = pd.read_csv(TEST_DATA_FILENAME)\n",
    "\n",
    "# columns to drop\n",
    "col_to_drop = [\"issue_d\", \"loan_status\", \"revol_util\", \"pub_rec_bankruptcies\"]\n",
    "X = df_train.drop(columns=col_to_drop)\n",
    "y = df_train[\"loan_status\"]\n",
    "\n",
    "X_test = df_test.drop(columns=col_to_drop)\n",
    "y_test = df_test[\"loan_status\"]\n",
    "\n",
    "print(\"Training size:\", X.shape[0])\n",
    "print(\"Test size:\", X_test.shape[0])\n",
    "\n",
    "list_features = X.select_dtypes(include=\"number\").columns.tolist()\n",
    "X_train = X[list_features].copy()\n",
    "y_train = y.copy()"
   ]
  },
  {
   "cell_type": "code",
   "execution_count": null,
   "id": "f8d99865-e053-4f37-a78b-e48eae87aef9",
   "metadata": {
    "tags": []
   },
   "outputs": [],
   "source": [
    "os.environ[\"GOOGLE_APPLICATION_CREDENTIALS\"] = \"\""
   ]
  },
  {
   "cell_type": "code",
   "execution_count": null,
   "id": "1c656f40-fc41-4287-bdb7-aff06e6e6dac",
   "metadata": {
    "tags": []
   },
   "outputs": [],
   "source": [
    "mlflow.set_tracking_uri(\"\")"
   ]
  },
  {
   "cell_type": "code",
   "execution_count": null,
   "id": "20247350-36cc-4bbc-aebf-4493726b01ad",
   "metadata": {
    "tags": []
   },
   "outputs": [],
   "source": [
    "mlflow.set_experiment(\"dvc-mlflow-test\")"
   ]
  },
  {
   "cell_type": "code",
   "execution_count": null,
   "id": "6e683249-d10f-4bbb-936e-4d09e32c0314",
   "metadata": {
    "tags": []
   },
   "outputs": [],
   "source": [
    "mlflow.sklearn.autolog()\n",
    "\n",
    "base_model = Pipeline(\n",
    "    [\n",
    "        (\"estimator\", RandomForestClassifier(random_state=11))\n",
    "    ]\n",
    ")\n",
    "base_model.fit(X_train, y_train)\n",
    "train_preds = base_model.predict(X_train)\n",
    "test_preds = base_model.predict(X_test[list_features])\n",
    "\n",
    "print(\"Training performance..\")\n",
    "print(classification_report(y_train, train_preds))\n",
    "print()\n",
    "print(\"Test performance..\")\n",
    "print(classification_report(y_test, test_preds))\n",
    "\n",
    "mlflow.sklearn.autolog(disable=True)"
   ]
  },
  {
   "cell_type": "code",
   "execution_count": null,
   "id": "c0daa072-55d7-4af5-aabc-ee11ffa93874",
   "metadata": {
    "tags": []
   },
   "outputs": [],
   "source": [
    "mlflow.sklearn.autolog()\n",
    "\n",
    "HYPERPARAMS = {\n",
    "    \"estimator__n_estimators\": [5, 10, 50],\n",
    "    \"estimator__max_depth\": [5, 10]\n",
    "}\n",
    "pipeline = Pipeline(\n",
    "    [\n",
    "        (\"estimator\", RandomForestClassifier(random_state=11))\n",
    "    ]\n",
    ")\n",
    "model = GridSearchCV(pipeline, param_grid=HYPERPARAMS, verbose=2)\n",
    "model.fit(X_train, y_train)\n",
    "train_preds = model.predict(X_train)\n",
    "test_preds = model.predict(X_test[list_features])\n",
    "\n",
    "print(\"Training performance..\")\n",
    "print(classification_report(y_train, train_preds))\n",
    "print()\n",
    "print(\"Test performance..\")\n",
    "print(classification_report(y_test, test_preds))\n",
    "\n",
    "mlflow.sklearn.autolog(disable=True)"
   ]
  },
  {
   "cell_type": "code",
   "execution_count": null,
   "id": "5d57bb66-7b93-4b2e-89ec-621e2aaa950e",
   "metadata": {},
   "outputs": [],
   "source": [
    "model_v1 = mlflow.sklearn.load_model(\"models:/dvc-mlflow-models/1\")\n",
    "\n",
    "train_preds = model_v1.predict(X_train)\n",
    "test_preds = model_v1.predict(X_test[list_features])\n",
    "\n",
    "print(\"Training performance..\")\n",
    "print(classification_report(y_train, train_preds))\n",
    "print()\n",
    "print(\"Test performance..\")\n",
    "print(classification_report(y_test, test_preds))"
   ]
  },
  {
   "cell_type": "code",
   "execution_count": null,
   "id": "3de1b7fa-bfad-446e-bea8-1a5b221e420f",
   "metadata": {
    "tags": []
   },
   "outputs": [],
   "source": [
    "model_v2 = mlflow.sklearn.load_model(\"models:/dvc-mlflow-models/2\")\n",
    "\n",
    "train_preds = model_v2.predict(X_train)\n",
    "test_preds = model_v2.predict(X_test[list_features])\n",
    "\n",
    "print(\"Training performance..\")\n",
    "print(classification_report(y_train, train_preds))\n",
    "print()\n",
    "print(\"Test performance..\")\n",
    "print(classification_report(y_test, test_preds))"
   ]
  }
 ],
 "metadata": {
  "kernelspec": {
   "display_name": "Python 3 (ipykernel)",
   "language": "python",
   "name": "python3"
  },
  "language_info": {
   "codemirror_mode": {
    "name": "ipython",
    "version": 3
   },
   "file_extension": ".py",
   "mimetype": "text/x-python",
   "name": "python",
   "nbconvert_exporter": "python",
   "pygments_lexer": "ipython3",
   "version": "3.10.8"
  }
 },
 "nbformat": 4,
 "nbformat_minor": 5
}
