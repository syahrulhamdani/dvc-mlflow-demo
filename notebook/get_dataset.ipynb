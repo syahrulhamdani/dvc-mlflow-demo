{
 "cells": [
  {
   "cell_type": "code",
   "execution_count": null,
   "id": "ffb9e0dc-0ac1-4d0b-ade4-39895dbb703d",
   "metadata": {
    "tags": []
   },
   "outputs": [],
   "source": [
    "from pathlib import Path\n",
    "\n",
    "import pandas as pd\n",
    "from deepchecks.tabular.datasets.classification import lending_club\n",
    "\n",
    "pd.set_option(\"display.max_columns\", None)"
   ]
  },
  {
   "cell_type": "markdown",
   "id": "44ec5f7f-882b-4cce-a6fe-068ced556613",
   "metadata": {},
   "source": [
    "# Get Dataset\n",
    "\n",
    "We'll use a dataset for binary classification task whether a loan will be approved or not. The data was partially collected by [deepchecks](https://deepchecks.com/https://deepchecks.com/) from https://www.kaggle.com/datasets/wordsforthewise/lending-clubhttps://www.kaggle.com/datasets/wordsforthewise/lending-club.\n",
    "\n",
    "The dataset has 21668 records with 26 features and one binary target."
   ]
  },
  {
   "cell_type": "code",
   "execution_count": null,
   "id": "1139f9d3-bd19-4510-8e49-cb5f15270359",
   "metadata": {
    "tags": []
   },
   "outputs": [],
   "source": [
    "df_lending = lending_club.load_data(data_format=\"Dataframe\", as_train_test=False)"
   ]
  },
  {
   "cell_type": "code",
   "execution_count": null,
   "id": "5a1d77f7-e344-4753-a4d4-6ac3144f2ee8",
   "metadata": {
    "tags": []
   },
   "outputs": [],
   "source": [
    "df_lending.head()"
   ]
  },
  {
   "cell_type": "code",
   "execution_count": null,
   "id": "6cff435e-a1d8-4a3e-8436-3cd3815f0a31",
   "metadata": {
    "tags": []
   },
   "outputs": [],
   "source": [
    "df_lending.to_csv(RAW_DATA_DIR / \"lending_club.csv\", index=False)"
   ]
  }
 ],
 "metadata": {
  "kernelspec": {
   "display_name": "Python 3 (ipykernel)",
   "language": "python",
   "name": "python3"
  },
  "language_info": {
   "codemirror_mode": {
    "name": "ipython",
    "version": 3
   },
   "file_extension": ".py",
   "mimetype": "text/x-python",
   "name": "python",
   "nbconvert_exporter": "python",
   "pygments_lexer": "ipython3",
   "version": "3.10.8"
  }
 },
 "nbformat": 4,
 "nbformat_minor": 5
}
