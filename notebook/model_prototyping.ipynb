{
 "cells": [
  {
   "cell_type": "code",
   "execution_count": null,
   "id": "97368d3a-15af-4a5a-987e-49e258de2c69",
   "metadata": {
    "tags": []
   },
   "outputs": [],
   "source": [
    "import argparse\n",
    "import json\n",
    "from time import time\n",
    "from pathlib import Path\n",
    "\n",
    "import joblib\n",
    "import pandas as pd\n",
    "from sklearn.compose import ColumnTransformer\n",
    "from sklearn.linear_model import LogisticRegression\n",
    "from sklearn.metrics import classification_report\n",
    "from sklearn.pipeline import Pipeline\n",
    "from sklearn.preprocessing import StandardScaler, OneHotEncoder\n",
    "\n",
    "pd.set_option(\"display.max_columns\", None)"
   ]
  },
  {
   "cell_type": "markdown",
   "id": "21a2c51c-b289-4fb8-b0dc-1cd002212118",
   "metadata": {},
   "source": [
    "# Modeling"
   ]
  },
  {
   "cell_type": "code",
   "execution_count": null,
   "id": "2d0833a8-6473-4ae1-a0dd-119a1bd53e5d",
   "metadata": {
    "tags": []
   },
   "outputs": [],
   "source": [
    "DATA_DIR = Path(\"../data\")\n",
    "SPLIT_DATA_DIR = DATA_DIR / \"split\"\n",
    "TRAIN_DATA_FILENAME = SPLIT_DATA_DIR / \"lending_club_train.csv\"\n",
    "TEST_DATA_FILENAME = SPLIT_DATA_DIR / \"lending_club_test.csv\""
   ]
  },
  {
   "cell_type": "code",
   "execution_count": null,
   "id": "92200bb3-8cf2-47d1-bcb4-02713ba34bab",
   "metadata": {
    "tags": []
   },
   "outputs": [],
   "source": [
    "df_train = pd.read_csv(TRAIN_DATA_FILENAME)\n",
    "df_test = pd.read_csv(TEST_DATA_FILENAME)\n",
    "\n",
    "# columns to drop\n",
    "col_to_drop = [\"issue_d\", \"loan_status\", \"revol_util\", \"pub_rec_bankruptcies\"]\n",
    "X = df_train.drop(columns=col_to_drop)\n",
    "y = df_train[\"loan_status\"]\n",
    "\n",
    "X_test = df_test.drop(columns=col_to_drop)\n",
    "y_test = df_test[\"loan_status\"]\n",
    "\n",
    "print(\"Training size:\", X.shape[0])\n",
    "print(\"Test size:\", X_test.shape[0])"
   ]
  },
  {
   "cell_type": "code",
   "execution_count": null,
   "id": "7b17bb7c-c2df-4c7e-a00b-f31967ddbfa3",
   "metadata": {
    "tags": []
   },
   "outputs": [],
   "source": [
    "X.head()"
   ]
  },
  {
   "cell_type": "code",
   "execution_count": null,
   "id": "8cfd7beb-09f4-4fef-8d79-26a36849ab80",
   "metadata": {
    "tags": []
   },
   "outputs": [],
   "source": [
    "X.info()"
   ]
  },
  {
   "cell_type": "code",
   "execution_count": null,
   "id": "20a4b866-36a7-4787-9af8-bac4e11e360f",
   "metadata": {
    "tags": []
   },
   "outputs": [],
   "source": [
    "list_features = X.select_dtypes(include=\"number\").columns.tolist()\n",
    "X_train = X[list_features].copy()\n",
    "y_train = y.copy()"
   ]
  },
  {
   "cell_type": "code",
   "execution_count": null,
   "id": "28ad503a-81f4-4662-b11e-b988a5753ccf",
   "metadata": {
    "tags": []
   },
   "outputs": [],
   "source": [
    "base_model = Pipeline(\n",
    "    [\n",
    "        (\"estimator\", LogisticRegression(random_state=11))\n",
    "    ]\n",
    ")\n",
    "base_model.fit(X_train, y_train)\n",
    "\n",
    "train_preds = base_model.predict(X_train)\n",
    "test_preds = base_model.predict(X_test[list_features])\n",
    "\n",
    "print(\"Training performance..\")\n",
    "print(classification_report(y_train, train_preds))\n",
    "print()\n",
    "print(\"Test performance..\")\n",
    "print(classification_report(y_test, test_preds))"
   ]
  },
  {
   "cell_type": "code",
   "execution_count": null,
   "id": "fa20e391-3085-4161-8321-48baf9a08279",
   "metadata": {
    "tags": []
   },
   "outputs": [],
   "source": [
    "model = Pipeline(\n",
    "    [\n",
    "        (\"scaler\", StandardScaler()),\n",
    "        (\"estimator\", LogisticRegression(random_state=11))\n",
    "    ]\n",
    ")\n",
    "model.fit(X_train, y_train)\n",
    "\n",
    "train_preds = model.predict(X_train)\n",
    "test_preds = model.predict(X_test[list_features])\n",
    "\n",
    "print(\"Training performance..\")\n",
    "print(classification_report(y_train, train_preds))\n",
    "print()\n",
    "print(\"Test performance..\")\n",
    "print(classification_report(y_test, test_preds))"
   ]
  }
 ],
 "metadata": {
  "kernelspec": {
   "display_name": "Python 3 (ipykernel)",
   "language": "python",
   "name": "python3"
  },
  "language_info": {
   "codemirror_mode": {
    "name": "ipython",
    "version": 3
   },
   "file_extension": ".py",
   "mimetype": "text/x-python",
   "name": "python",
   "nbconvert_exporter": "python",
   "pygments_lexer": "ipython3",
   "version": "3.10.8"
  }
 },
 "nbformat": 4,
 "nbformat_minor": 5
}
